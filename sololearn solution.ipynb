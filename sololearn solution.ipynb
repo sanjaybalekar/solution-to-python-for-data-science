{
 "cells": [
  {
   "cell_type": "code",
   "execution_count": 6,
   "id": "02bbc870",
   "metadata": {},
   "outputs": [
    {
     "name": "stdout",
     "output_type": "stream",
     "text": [
      "1100\n",
      "[ 900 1000 1100 1400 1800 1900 2200 2500 3500 4200]\n"
     ]
    }
   ],
   "source": [
    "import numpy as np\n",
    "\n",
    "data = np.array([1000, 2500, 1400, 1800, 900, 4200, 2200, 1900, 3500])\n",
    "new_house = int(input()) \n",
    "print(np.sort(np.append(data,new_house)))"
   ]
  },
  {
   "cell_type": "code",
   "execution_count": null,
   "id": "da1ec4c6",
   "metadata": {},
   "outputs": [],
   "source": []
  }
 ],
 "metadata": {
  "kernelspec": {
   "display_name": "Python 3",
   "language": "python",
   "name": "python3"
  },
  "language_info": {
   "codemirror_mode": {
    "name": "ipython",
    "version": 3
   },
   "file_extension": ".py",
   "mimetype": "text/x-python",
   "name": "python",
   "nbconvert_exporter": "python",
   "pygments_lexer": "ipython3",
   "version": "3.8.8"
  }
 },
 "nbformat": 4,
 "nbformat_minor": 5
}
